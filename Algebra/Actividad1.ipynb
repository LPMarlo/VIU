{
 "cells": [
  {
   "cell_type": "markdown",
   "source": [
    "# Modalidad CON programación"
   ],
   "metadata": {
    "collapsed": false
   }
  },
  {
   "cell_type": "markdown",
   "source": [
    "1. [4 puntos] Impleméntese un programa con la estructura b=elemento(x,A) que verifique si\n",
    "x ∈ A, siendo en este caso x una variable númerica y A una lista o vector. En caso afirmativo,\n",
    "debe devolver b = 1, mientras que en caso contrario la salida debeŕa ser b = 0.\n",
    "No se permite el uso de comandos o funciones preprogramadas que realizan directamente\n",
    "esta comprobacíon, como in en Python."
   ],
   "metadata": {
    "collapsed": false
   }
  },
  {
   "cell_type": "code",
   "execution_count": 20,
   "metadata": {
    "collapsed": true
   },
   "outputs": [],
   "source": [
    "def elemento(x, A):\n",
    "    b = 0 # inicializar b a 0\n",
    "    for a in A: # recorrer la lista A\n",
    "        if a == x: # comparar cada elemento con x\n",
    "            b = 1 # asignar b a 1 si hay coincidencia\n",
    "            break # salir del bucle\n",
    "    return b # devolver el valor de b"
   ]
  },
  {
   "cell_type": "code",
   "execution_count": 21,
   "outputs": [
    {
     "name": "stdout",
     "output_type": "stream",
     "text": [
      "1\n",
      "0\n"
     ]
    }
   ],
   "source": [
    "# Ejemplo 1: x está en A\n",
    "x = 3\n",
    "A = [1, 2, 3, 4]\n",
    "b = elemento(x, A)\n",
    "print(b) # imprime 1\n",
    "\n",
    "# Ejemplo 2: x no está en A\n",
    "x = 5\n",
    "A = [1, 2, 3, 4]\n",
    "b = elemento(x, A)\n",
    "print(b) # imprime 0"
   ],
   "metadata": {
    "collapsed": false
   }
  },
  {
   "cell_type": "markdown",
   "source": [
    "2. [4 puntos] Utilizando la función anterior, elabórese un programa b=subconjunto(A,B) que\n",
    "determine si un conjunto A (primer argumento) es un subconjunto de otro conjunto B\n",
    "(segundo argumento), siendo en este caso A, B listas o vectores. En caso afirmativo, la salida\n",
    "deberá ser b = 1, mientras que en caso contrario deberá devolverse b = 0.\n",
    "No se permite el uso de comandos o funciones preprogramadas que realizan directamente\n",
    "esta comprobación, como isubset en Python."
   ],
   "metadata": {
    "collapsed": false
   }
  },
  {
   "cell_type": "code",
   "execution_count": 22,
   "outputs": [],
   "source": [
    "def subconjunto(A, B):\n",
    "    b = 1 # inicializar b a 1\n",
    "    for a in A: # recorrer la lista A\n",
    "        if elemento(a, B) == 0: # usar la función elemento para comprobar si a está en B\n",
    "            b = 0 # asignar b a 0 si no está\n",
    "            break # salir del bucle\n",
    "    return b # devolver el valor de b"
   ],
   "metadata": {
    "collapsed": false
   }
  },
  {
   "cell_type": "code",
   "execution_count": 23,
   "outputs": [
    {
     "name": "stdout",
     "output_type": "stream",
     "text": [
      "1\n",
      "0\n"
     ]
    }
   ],
   "source": [
    "# Ejemplo 1: A es un subconjunto de B\n",
    "A = [2, 4, 6]\n",
    "B = [1, 2, 3, 4, 5, 6]\n",
    "b = subconjunto(A,B)\n",
    "print(b) # imprime 1\n",
    "\n",
    "# Ejemplo 2: A no es un subconjunto de B\n",
    "A = [2, 4, 7]\n",
    "B = [1, 2, 3, 4, 5, 6]\n",
    "b = subconjunto(A,B)\n",
    "print(b) # imprime 0"
   ],
   "metadata": {
    "collapsed": false
   }
  },
  {
   "cell_type": "markdown",
   "source": [
    "3. [2 puntos] Consideramos una función f : A → B, tales que el dominio es un subconjunto\n",
    "del codominio, es decir, A ⊆ B. Respóndase razonadamente a las preguntas asociadas a los\n",
    "casos siguientes:"
   ],
   "metadata": {
    "collapsed": false
   }
  },
  {
   "cell_type": "markdown",
   "source": [
    "a) [1 punto] Supongamos que B es finito y el dominio está estrictamente contenido en el\n",
    "codominio, es decir, A ⊂ B (o lo que es lo mismo, A ⊆ B, pero con A ̸= B). ¿Es\n",
    "posible que f sea biyectiva bajo estas condiciones? ¿Por qué?"
   ],
   "metadata": {
    "collapsed": false
   }
  },
  {
   "cell_type": "markdown",
   "source": [
    "No. Una función es biyectiva si es inyectiva y sobreyectiva al mismo tiempo. Es decir, si cada elemento de A se corresponde con un elemento diferente de B y todos los elementos de B tienen una imagen en A. Pero si A ⊂ B y B es finito, entonces hay al menos un elemento de B que no está en A y por tanto no tiene imagen en f. Eso implica que f no es sobreyectiva y por tanto tampoco biyectiva."
   ],
   "metadata": {
    "collapsed": false
   }
  },
  {
   "cell_type": "markdown",
   "source": [
    "b) [1 punto] ¿Puede darse la situación anterior cuando B es infinito? En caso afirmativo,\n",
    "proporcíonese un ejemplo de f : A → B biyectiva, con B infinito y A ⊂ B. En caso\n",
    "negativo, justifíquese por qué no puede existir."
   ],
   "metadata": {
    "collapsed": false
   }
  },
  {
   "cell_type": "markdown",
   "source": [
    "Sí, puede darse la situación anterior cuando B es infinito, siempre que A también sea infinito. En ese caso, existirá una función biyectiva entre A y B si ambos conjuntos tienen el mismo tipo de infinito. Por ejemplo, si A y B son conjuntos de números naturales, entonces hay una función biyectiva entre ellos.\n",
    "\n",
    "Un ejemplo de f : A → B biyectiva, con B infinito y A ⊂ B, sería el siguiente: Sea A el conjunto de los números naturales pares y B el conjunto de los números naturales. Entonces la función f : A → B definida por f(x) = x/2 es biyectiva.\n",
    "\n",
    "Si A no es infinito, entonces no puede haber una función biyectiva entre A y B. Esto se debe a que la función biyectiva requiere que el dominio y el codominio tengan el mismo número de elementos. Pero si A es finito y B es infinito, entonces hay una diferencia infinita entre sus cardinalidades."
   ],
   "metadata": {
    "collapsed": false
   }
  }
 ],
 "metadata": {
  "kernelspec": {
   "display_name": "Python 3",
   "language": "python",
   "name": "python3"
  },
  "language_info": {
   "codemirror_mode": {
    "name": "ipython",
    "version": 2
   },
   "file_extension": ".py",
   "mimetype": "text/x-python",
   "name": "python",
   "nbconvert_exporter": "python",
   "pygments_lexer": "ipython2",
   "version": "2.7.6"
  }
 },
 "nbformat": 4,
 "nbformat_minor": 0
}
